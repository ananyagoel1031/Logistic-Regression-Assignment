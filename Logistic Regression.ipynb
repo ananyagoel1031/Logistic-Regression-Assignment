{
 "cells": [
  {
   "cell_type": "markdown",
   "id": "357524ef-9089-4ebd-b06b-c0a694d585a8",
   "metadata": {},
   "source": [
    "## ASSIGNMENT \n",
    "\n",
    "### Supervised Learning: Regression Models and Performance Metrics "
   ]
  },
  {
   "cell_type": "markdown",
   "id": "a1fe4013-1535-43c7-9ecf-629963f9a0d2",
   "metadata": {},
   "source": [
    "### Q1.  What is Simple Linear Regression (SLR)? Explain its purpose. "
   ]
  },
  {
   "cell_type": "markdown",
   "id": "acb18cf7-da85-4297-88d7-b2d4f88de779",
   "metadata": {},
   "source": [
    "#### A1. Simple Linear Regression (SLR) is a supervised machine learning algorithm used to model the relationship between a single independent variable (predictor) and a dependent variable (target). It assumes a linear relationship between the two variables, represented by a straight line.\n",
    "#### The equation for SLR is:\n",
    "####   y = β₀ + β₁x + ε\n",
    "\n",
    "#### The purpose of SLR is to find the line that minimizes the error between the actual data points and the predicted values. This is achieved using the Least Squares Method, which minimizes the sum of squared residuals (differences between actual and predicted values)."
   ]
  },
  {
   "cell_type": "markdown",
   "id": "e9256c47-5b39-459c-9165-537b4d663338",
   "metadata": {},
   "source": [
    "### Q2.  What are the key assumptions of Simple Linear Regression?"
   ]
  },
  {
   "cell_type": "markdown",
   "id": "5684f2b2-5f83-4020-aca9-fb89303fcc02",
   "metadata": {},
   "source": [
    "#### A2. Key Assumptions of Linear Regression\n",
    "#### 1. Linearity: The relationship between the independent and dependent variables is linear.\n",
    "#### 2. Homoscedasticity: The residuals (the differences between observed and predicted values) should have a constant variance across all levels of the independent variable(s). In simpler terms, it means that the spread of the errors should be relatively uniform, regardless of the value of the predictor.\n",
    "#### 3. Independence of errors: It ensures that the residuals (the differences between the observed and predicted values) are not correlated with one another.\n",
    "#### 4. Lack of Multicollinearity: The independent variables are not highly correlated with each other.\n",
    "#### 5. Absence of Endogeneity: The independent variables in the regression model should not be correlated with the error term. "
   ]
  },
  {
   "cell_type": "markdown",
   "id": "a84c4109-48ac-4d85-b506-e81dfeb4bf24",
   "metadata": {},
   "source": [
    "### Q3. Write the mathematical equation for a simple linear regression model and explain each term. "
   ]
  },
  {
   "cell_type": "markdown",
   "id": "60ed6df5-4acb-4df5-9cb0-ebc3c9b5ae32",
   "metadata": {},
   "source": [
    "#### A3. The formula used for linear regressions is, y = a + bx\n",
    "#### where,\n",
    "#### y is the Dependent Variable that Lies along the Y-axis\n",
    "#### a is Y-Intercept and given by a = (Σy - m(Σx)) / n\n",
    "#### b is the Slope of the Regression Line and given by  b = [n(Σxy) - (Σx)(Σy)] / [n(Σx²) - (Σx)²] Where: n is the number of data points. Σxy is the sum of the product of corresponding x and y values. Σx is the sum of all x values. Σy is the sum of all y values. Σx² is the sum of the squares of x values.\n",
    "#### x is an Independent Variable that Lies along the X-axis"
   ]
  },
  {
   "cell_type": "markdown",
   "id": "2c5de8b9-3062-4996-ac94-fbc8877f6e80",
   "metadata": {},
   "source": [
    "### Q4. Provide a real-world example where simple linear regression can be applied."
   ]
  },
  {
   "cell_type": "markdown",
   "id": "17da730a-2f78-498c-afc1-299c5aa3a15f",
   "metadata": {},
   "source": [
    "#### A4. Forecasting Sales for a Business\n",
    "#### Sales are often influenced by factors like time of year, advertising, or customer trends. Linear regression helps businesses predict future sales by analyzing these patterns. For example, a toy store might notice that sales increase every December because of the holidays. By looking at past sales data, linear regression can identify the trend and forecast how much the store is likely to sell this year, helping them plan their inventory and marketing.\n",
    "\n",
    "#### Example: If data shows that sales increase by 10% every December compared to November, the store can predict how much to order and prepare accordingly."
   ]
  },
  {
   "cell_type": "markdown",
   "id": "a0a49ab9-25f6-4f25-b079-65317a74684e",
   "metadata": {},
   "source": [
    "### Q5. What is the method of least squares in linear regression?"
   ]
  },
  {
   "cell_type": "markdown",
   "id": "1a1bf1b6-1ff4-4ca7-837a-93dfb23e70d5",
   "metadata": {},
   "source": [
    "#### A5. The Least Squares Method is a mathematical approach used to find the best-fitting line through a set of data points by minimizing the sum of the squared differences between observed and predicted values. For a simple linear regression, the equation of the regression line is: y = mx + c\n",
    "#### Here, y is the dependent variable, x is the independent variable, m is the slope of the line, and c is the y-intercept."
   ]
  },
  {
   "cell_type": "markdown",
   "id": "a66e992f-79e8-401a-9d89-dc98730c89d6",
   "metadata": {},
   "source": [
    "### Q6. What is Logistic Regression? How does it differ from Linear Regression? "
   ]
  },
  {
   "cell_type": "markdown",
   "id": "b934775c-6bf1-46f7-bac2-879768ffc7ec",
   "metadata": {},
   "source": [
    "#### A6. Logistic regression is a classification model used to predict the probability of a binary or categorical outcome. It assumes the dependent variable follows a binomial distribution. The model uses a logistic function (sigmoid curve) to map predicted values to probabilities between 0 and 1. For example, logistic regression is commonly used to classify whether an email is spam or not, or whether a tumor is benign or malignant.\n",
    "\n",
    "#### Linear Regression is a machine learning algorithm based on supervised regression algorithm. Regression models a target prediction value based on independent variables. It is mostly used for finding out the relationship between variables and forecasting. Different regression models differ based on – the kind of relationship between the dependent and independent variables, they are considering and the number of independent variables being used. Logistic regression is basically a supervised classification algorithm. In a classification problem, the target variable(or output), y, can take only discrete values for a given set of features(or inputs), X."
   ]
  },
  {
   "cell_type": "markdown",
   "id": "39ac7327-fc4d-41fc-aa9e-2bc8c3eb6821",
   "metadata": {},
   "source": [
    "### Q7. Name and briefly describe three common evaluation metrics for regression models."
   ]
  },
  {
   "cell_type": "markdown",
   "id": "e2bdad88-93b3-4f39-bbdc-5d0f8869eeea",
   "metadata": {},
   "source": [
    "#### A7. \n",
    "#### 1. R-squared (R²) Score : It evaluates how well the model explains the variance in the target variable. It ranges from 0 to 1, where a higher value indicates a better fit. An R² of 1 means the model perfectly predicts the target variable.\n",
    "\n",
    "#### 2. Mean Squared Error (MSE): It measures the square root of the average discrepancies between a dataset's actual values and projected values. MSE is frequently utilized in regression issues and is used to assess how well predictive models work.\n",
    "\n",
    "#### 3. Mean Absolute Error (MAE) : It measures the average magnitude of errors between the predicted and actual values, without considering their direction. It is calculated as the mean of the absolute differences between predicted and true values. A lower MAE indicates better model performance."
   ]
  },
  {
   "cell_type": "markdown",
   "id": "ae60d015-f145-4ea2-8349-c20c5014034a",
   "metadata": {},
   "source": [
    "### Q8. What is the purpose of the R-squared metric in regression analysis? "
   ]
  },
  {
   "cell_type": "markdown",
   "id": "dcdfa225-7139-47ac-91c2-5cdfaacd1d44",
   "metadata": {},
   "source": [
    "#### A8. R-squared is a statistical measure that represents the goodness of fit of a regression model. The value of R-square lies between 0 to 1. Where we get R-square equals 1 when the model perfectly fits the data and there is no difference between the predicted value and actual value.  However, we get R-square equals 0 when the model does not predict any variability in the model and it does not learn any relationship between the dependent and independent variables.\n",
    "#### R-squared, denoted as R², is a statistical measure of goodness of fit in regression models. It tells us how much of the variation in the dependent variable can be explained by the model. The value of R-squared lies between 0 and 1: R² = 1 means the model explains all of it."
   ]
  },
  {
   "cell_type": "markdown",
   "id": "cc21a4ea-f917-48c3-8f6e-94c7c3a86676",
   "metadata": {},
   "source": [
    "### Q9. Write Python code to fit a simple linear regression model using scikit-learn and print the slope and intercept. (Include your Python code and output in the code box below.)"
   ]
  },
  {
   "cell_type": "code",
   "execution_count": 1,
   "id": "5aa324e1-50b8-4282-8394-c46c259e9e7d",
   "metadata": {},
   "outputs": [
    {
     "name": "stdout",
     "output_type": "stream",
     "text": [
      "Slope (Coefficient): 0.6000000000000002\n",
      "Intercept: 2.1999999999999993\n"
     ]
    }
   ],
   "source": [
    "#### A9. # Import necessary libraries\n",
    "from sklearn.linear_model import LinearRegression\n",
    "import numpy as np\n",
    "\n",
    "# Sample data (independent variable X and dependent variable y)\n",
    "X = np.array([[1], [2], [3], [4], [5]])  # Independent variable (2D array)\n",
    "y = np.array([2, 4, 5, 4, 5])           # Dependent variable\n",
    "\n",
    "# Create a Linear Regression model\n",
    "model = LinearRegression()\n",
    "\n",
    "# Fit the model to the data\n",
    "model.fit(X, y)\n",
    "\n",
    "# Print the slope (coefficient) and intercept\n",
    "print(\"Slope (Coefficient):\", model.coef_[0])\n",
    "print(\"Intercept:\", model.intercept_)\n"
   ]
  },
  {
   "cell_type": "markdown",
   "id": "bdcf123b-6fa8-44a4-9ed3-33c352323518",
   "metadata": {},
   "source": [
    "### Q10. How do you interpret the coefficients in a simple linear regression model? "
   ]
  },
  {
   "cell_type": "markdown",
   "id": "29538357-6d8b-4f11-8119-2c11fe50f3b5",
   "metadata": {},
   "source": [
    "#### A10. The basic form of a linear regression equation is:\n",
    "#### y= b0+b1x1+b2x2+....+bnxn+ϵ, \n",
    "#### Where, Y is the dependent variable.\n",
    "#### b0 is the intercept.\n",
    "#### b1,b2,b3,....,bn are the coefficients of x1,x2,x3.....,xn.\n",
    "#### ϵ is the error term.\n",
    "\n",
    "#### Interpretation of coefficients:\n",
    "#### 1. Magnitude and Direction:The absolute value of b_i reflects the strength of the relationship. Larger magnitudes imply a stronger impact of X_i on Y.\n",
    "#### 2. Statistical Significance:Statistical tests (typically t-tests) determine if a coefficient is significantly different from zero. This is reflected in p-values.A common threshold for significance is p<0.05. If the p-value is below this threshold, the coefficient is considered statistically significant, suggesting a meaningful impact of the independent variable on the dependent variable.\n",
    "#### 3. Confidence Intervals: Confidence intervals provide a range within which the true value of the coefficient is likely to fall. Narrower intervals indicate more precise estimates.\n"
   ]
  }
 ],
 "metadata": {
  "kernelspec": {
   "display_name": "Python [conda env:base] *",
   "language": "python",
   "name": "conda-base-py"
  },
  "language_info": {
   "codemirror_mode": {
    "name": "ipython",
    "version": 3
   },
   "file_extension": ".py",
   "mimetype": "text/x-python",
   "name": "python",
   "nbconvert_exporter": "python",
   "pygments_lexer": "ipython3",
   "version": "3.13.5"
  }
 },
 "nbformat": 4,
 "nbformat_minor": 5
}
